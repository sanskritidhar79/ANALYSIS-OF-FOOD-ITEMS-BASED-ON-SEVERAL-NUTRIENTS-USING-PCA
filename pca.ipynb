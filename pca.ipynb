{
 "cells": [
  {
   "cell_type": "code",
   "execution_count": 54,
   "metadata": {},
   "outputs": [],
   "source": [
    "import pandas as pd\n",
    "import numpy as np\n",
    "from sklearn.decomposition import PCA\n",
    "from sklearn.preprocessing import StandardScaler\n",
    "import matplotlib.pyplot as plt\n",
    "import seaborn as sns"
   ]
  },
  {
   "cell_type": "code",
   "execution_count": 55,
   "metadata": {},
   "outputs": [],
   "source": [
    "df=pd.read_csv(\"nndb_flat.csv\") \n"
   ]
  },
  {
   "cell_type": "code",
   "execution_count": 56,
   "metadata": {},
   "outputs": [
    {
     "name": "stdout",
     "output_type": "stream",
     "text": [
      "<class 'pandas.core.frame.DataFrame'>\n",
      "RangeIndex: 8618 entries, 0 to 8617\n",
      "Data columns (total 45 columns):\n",
      "ID                  8618 non-null int64\n",
      "FoodGroup           8618 non-null object\n",
      "ShortDescrip        8618 non-null object\n",
      "Descrip             8618 non-null object\n",
      "CommonName          1063 non-null object\n",
      "MfgName             1560 non-null object\n",
      "ScientificName      732 non-null object\n",
      "Energy_kcal         8618 non-null float64\n",
      "Protein_g           8618 non-null float64\n",
      "Fat_g               8618 non-null float64\n",
      "Carb_g              8618 non-null float64\n",
      "Sugar_g             8618 non-null float64\n",
      "Fiber_g             8618 non-null float64\n",
      "VitA_mcg            8618 non-null float64\n",
      "VitB6_mg            8618 non-null float64\n",
      "VitB12_mcg          8618 non-null float64\n",
      "VitC_mg             8618 non-null float64\n",
      "VitE_mg             8618 non-null float64\n",
      "Folate_mcg          8618 non-null float64\n",
      "Niacin_mg           8618 non-null float64\n",
      "Riboflavin_mg       8618 non-null float64\n",
      "Thiamin_mg          8618 non-null float64\n",
      "Calcium_mg          8618 non-null float64\n",
      "Copper_mcg          8618 non-null float64\n",
      "Iron_mg             8618 non-null float64\n",
      "Magnesium_mg        8618 non-null float64\n",
      "Manganese_mg        8618 non-null float64\n",
      "Phosphorus_mg       8618 non-null float64\n",
      "Selenium_mcg        8618 non-null float64\n",
      "Zinc_mg             8618 non-null float64\n",
      "VitA_USRDA          8618 non-null float64\n",
      "VitB6_USRDA         8618 non-null float64\n",
      "VitB12_USRDA        8618 non-null float64\n",
      "VitC_USRDA          8618 non-null float64\n",
      "VitE_USRDA          8618 non-null float64\n",
      "Folate_USRDA        8618 non-null float64\n",
      "Niacin_USRDA        8618 non-null float64\n",
      "Riboflavin_USRDA    8618 non-null float64\n",
      "Thiamin_USRDA       8618 non-null float64\n",
      "Calcium_USRDA       8618 non-null float64\n",
      "Copper_USRDA        8618 non-null float64\n",
      "Magnesium_USRDA     8618 non-null float64\n",
      "Phosphorus_USRDA    8618 non-null float64\n",
      "Selenium_USRDA      8618 non-null float64\n",
      "Zinc_USRDA          8618 non-null float64\n",
      "dtypes: float64(38), int64(1), object(6)\n",
      "memory usage: 3.0+ MB\n"
     ]
    }
   ],
   "source": [
    "df.info()"
   ]
  },
  {
   "cell_type": "code",
   "execution_count": 57,
   "metadata": {},
   "outputs": [
    {
     "data": {
      "text/html": [
       "<div>\n",
       "<style scoped>\n",
       "    .dataframe tbody tr th:only-of-type {\n",
       "        vertical-align: middle;\n",
       "    }\n",
       "\n",
       "    .dataframe tbody tr th {\n",
       "        vertical-align: top;\n",
       "    }\n",
       "\n",
       "    .dataframe thead th {\n",
       "        text-align: right;\n",
       "    }\n",
       "</style>\n",
       "<table border=\"1\" class=\"dataframe\">\n",
       "  <thead>\n",
       "    <tr style=\"text-align: right;\">\n",
       "      <th></th>\n",
       "      <th>column</th>\n",
       "      <th>row</th>\n",
       "      <th>corr</th>\n",
       "    </tr>\n",
       "  </thead>\n",
       "  <tbody>\n",
       "    <tr>\n",
       "      <th>0</th>\n",
       "      <td>VitA_mcg</td>\n",
       "      <td>VitA_USRDA</td>\n",
       "      <td>1</td>\n",
       "    </tr>\n",
       "    <tr>\n",
       "      <th>1</th>\n",
       "      <td>VitB6_mg</td>\n",
       "      <td>VitB6_USRDA</td>\n",
       "      <td>1</td>\n",
       "    </tr>\n",
       "    <tr>\n",
       "      <th>2</th>\n",
       "      <td>VitB12_mcg</td>\n",
       "      <td>VitB12_USRDA</td>\n",
       "      <td>1</td>\n",
       "    </tr>\n",
       "    <tr>\n",
       "      <th>3</th>\n",
       "      <td>VitC_mg</td>\n",
       "      <td>VitC_USRDA</td>\n",
       "      <td>1</td>\n",
       "    </tr>\n",
       "    <tr>\n",
       "      <th>4</th>\n",
       "      <td>VitE_mg</td>\n",
       "      <td>VitE_USRDA</td>\n",
       "      <td>1</td>\n",
       "    </tr>\n",
       "    <tr>\n",
       "      <th>5</th>\n",
       "      <td>Folate_mcg</td>\n",
       "      <td>Folate_USRDA</td>\n",
       "      <td>1</td>\n",
       "    </tr>\n",
       "    <tr>\n",
       "      <th>6</th>\n",
       "      <td>Niacin_mg</td>\n",
       "      <td>Niacin_USRDA</td>\n",
       "      <td>1</td>\n",
       "    </tr>\n",
       "    <tr>\n",
       "      <th>7</th>\n",
       "      <td>Riboflavin_mg</td>\n",
       "      <td>Riboflavin_USRDA</td>\n",
       "      <td>1</td>\n",
       "    </tr>\n",
       "    <tr>\n",
       "      <th>8</th>\n",
       "      <td>Thiamin_mg</td>\n",
       "      <td>Thiamin_USRDA</td>\n",
       "      <td>1</td>\n",
       "    </tr>\n",
       "    <tr>\n",
       "      <th>9</th>\n",
       "      <td>Calcium_mg</td>\n",
       "      <td>Calcium_USRDA</td>\n",
       "      <td>1</td>\n",
       "    </tr>\n",
       "    <tr>\n",
       "      <th>10</th>\n",
       "      <td>Copper_mcg</td>\n",
       "      <td>Copper_USRDA</td>\n",
       "      <td>1</td>\n",
       "    </tr>\n",
       "    <tr>\n",
       "      <th>11</th>\n",
       "      <td>Magnesium_mg</td>\n",
       "      <td>Magnesium_USRDA</td>\n",
       "      <td>1</td>\n",
       "    </tr>\n",
       "    <tr>\n",
       "      <th>12</th>\n",
       "      <td>Phosphorus_mg</td>\n",
       "      <td>Phosphorus_USRDA</td>\n",
       "      <td>1</td>\n",
       "    </tr>\n",
       "    <tr>\n",
       "      <th>13</th>\n",
       "      <td>Selenium_mcg</td>\n",
       "      <td>Selenium_USRDA</td>\n",
       "      <td>1</td>\n",
       "    </tr>\n",
       "    <tr>\n",
       "      <th>14</th>\n",
       "      <td>Zinc_mg</td>\n",
       "      <td>Zinc_USRDA</td>\n",
       "      <td>1</td>\n",
       "    </tr>\n",
       "  </tbody>\n",
       "</table>\n",
       "</div>"
      ],
      "text/plain": [
       "           column               row corr\n",
       "0        VitA_mcg        VitA_USRDA    1\n",
       "1        VitB6_mg       VitB6_USRDA    1\n",
       "2      VitB12_mcg      VitB12_USRDA    1\n",
       "3         VitC_mg        VitC_USRDA    1\n",
       "4         VitE_mg        VitE_USRDA    1\n",
       "5      Folate_mcg      Folate_USRDA    1\n",
       "6       Niacin_mg      Niacin_USRDA    1\n",
       "7   Riboflavin_mg  Riboflavin_USRDA    1\n",
       "8      Thiamin_mg     Thiamin_USRDA    1\n",
       "9      Calcium_mg     Calcium_USRDA    1\n",
       "10     Copper_mcg      Copper_USRDA    1\n",
       "11   Magnesium_mg   Magnesium_USRDA    1\n",
       "12  Phosphorus_mg  Phosphorus_USRDA    1\n",
       "13   Selenium_mcg    Selenium_USRDA    1\n",
       "14        Zinc_mg        Zinc_USRDA    1"
      ]
     },
     "execution_count": 57,
     "metadata": {},
     "output_type": "execute_result"
    }
   ],
   "source": [
    "used = []\n",
    "corrs = []\n",
    "for i, j in enumerate(df.corr().columns):\n",
    "    for k in range(len(df.corr())):\n",
    "        if ((df.corr().iloc[k, i] > 0.9) & \n",
    "            (j not in used) &\n",
    "            (j != df.corr().index[k])):\n",
    "            \n",
    "            used.append(j)\n",
    "            corrs.append((j, df.corr().index[k], \n",
    "                          np.round(df.corr().iloc[k, i], 2)))\n",
    "\n",
    "            \n",
    "corrsdf = pd.DataFrame([[i[0] for i in corrs],\n",
    "                        [i[1] for i in corrs],\n",
    "                        [i[2] for i in corrs]])\n",
    "\n",
    "corrsdf = corrsdf.T.rename(columns = {0:'column',1:'row',2:'corr'})\n",
    "corrsdf[:15]"
   ]
  },
  {
   "cell_type": "code",
   "execution_count": 58,
   "metadata": {},
   "outputs": [],
   "source": [
    "df.drop(df.columns[df.columns.str.contains('_USRDA')].values, \n",
    "        inplace=True, axis=1)"
   ]
  },
  {
   "cell_type": "code",
   "execution_count": 59,
   "metadata": {},
   "outputs": [],
   "source": [
    "df.set_index('ID', inplace=True)\n",
    "df_desc = df.iloc[:, :6]\n",
    "df.drop(df.columns[:6].values, axis=1, inplace=True)"
   ]
  },
  {
   "cell_type": "code",
   "execution_count": 60,
   "metadata": {},
   "outputs": [
    {
     "data": {
      "image/png": "[encoded data removed]",
      "text/plain": [
       "<Figure size 792x792 with 25 Axes>"
      ]
     },
     "metadata": {
      "needs_background": "light"
     },
     "output_type": "display_data"
    }
   ],
   "source": [
    "ax = df.hist(bins=50, xlabelsize=-1, ylabelsize=-1, figsize=(11,11))"
   ]
  },
  {
   "cell_type": "code",
   "execution_count": 61,
   "metadata": {},
   "outputs": [],
   "source": [
    "from scipy.stats import boxcox\n",
    "# add 1 because data must be positive (we have many zeros)\n",
    "df = df + 1\n",
    "df_TF = pd.DataFrame(index=df.index)\n",
    "for i in df.columns.values:\n",
    "    df_TF[\"%s_TF\" % i] = boxcox(df.loc[:, i])[0]"
   ]
  },
  {
   "cell_type": "code",
   "execution_count": 62,
   "metadata": {},
   "outputs": [
    {
     "data": {
      "image/png": "[encoded data removed]",
      "text/plain": [
       "<Figure size 792x792 with 25 Axes>"
      ]
     },
     "metadata": {
      "needs_background": "light"
     },
     "output_type": "display_data"
    }
   ],
   "source": [
    "ax = df_TF.hist(bins=50, xlabelsize=-1, ylabelsize=-1, figsize=(11,11))"
   ]
  },
  {
   "cell_type": "code",
   "execution_count": 63,
   "metadata": {},
   "outputs": [
    {
     "name": "stdout",
     "output_type": "stream",
     "text": [
      "mean:  -0.0\n",
      "standard dev:  1.0\n"
     ]
    }
   ],
   "source": [
    "# from sklearn.preprocessing import StandardScaler\n",
    "df_TF = StandardScaler().fit_transform(df_TF)\n",
    "\n",
    "print (\"mean: \", np.round(df_TF.mean(), 2))\n",
    "print (\"standard dev: \", np.round(df_TF.std(), 2))"
   ]
  },
  {
   "cell_type": "code",
   "execution_count": 64,
   "metadata": {},
   "outputs": [
    {
     "name": "stdout",
     "output_type": "stream",
     "text": [
      "Covariance matrix \n",
      "[[ 1.00011605  0.33727504  0.78609931  0.29294538  0.1106689   0.12987026\n",
      "  -0.09093813  0.1864142   0.12925181 -0.33470388  0.21932799  0.06043694\n",
      "   0.34830862  0.36348217  0.42629771  0.099629    0.1891642   0.40226158\n",
      "   0.26776646  0.10302147  0.37197004  0.22139989  0.31947305]\n",
      " [ 0.33727504  1.00011605  0.45405959 -0.40651478 -0.41122317 -0.26944726\n",
      "  -0.02029581  0.58697201  0.65362593 -0.39635002  0.03742236  0.14518398\n",
      "   0.6846442   0.5722225   0.37578169  0.17195537  0.35092564  0.5307038\n",
      "   0.4509764  -0.06260599  0.74305778  0.70227231  0.77609283]\n",
      " [ 0.78609931  0.45405959  1.00011605 -0.12579262 -0.11815544 -0.14615089\n",
      "  -0.00721814  0.18020389  0.32388243 -0.39397438  0.23745435 -0.06159502\n",
      "   0.33424014  0.32098922  0.26709488  0.05147661  0.07805596  0.27989168\n",
      "   0.12847643 -0.10080304  0.36771174  0.31859641  0.38700136]\n",
      " [ 0.29294538 -0.40651478 -0.12579262  1.00011605  0.65747591  0.71950469\n",
      "   0.012143   -0.20840965 -0.51488284  0.24491239  0.0349789   0.21956669\n",
      "  -0.13640802  0.03643136  0.31872079  0.29833244  0.11930002  0.18582025\n",
      "   0.20136725  0.45607915 -0.07108692 -0.34873581 -0.2787854 ]\n",
      " [ 0.1106689  -0.41122317 -0.11815544  0.65747591  1.00011605  0.49684741\n",
      "   0.07573329 -0.21337    -0.32464947  0.25939843  0.208348    0.02891246\n",
      "  -0.20037983 -0.01911742  0.10916054  0.19056036 -0.0926894  -0.00312207\n",
      "  -0.02556657  0.09663721 -0.18965997 -0.33534937 -0.28481898]\n",
      " [ 0.12987026 -0.26944726 -0.14615089  0.71950469  0.49684741  1.00011605\n",
      "  -0.01622458 -0.05548608 -0.46262201  0.2577122   0.11958623  0.2528845\n",
      "  -0.04740251  0.01413065  0.30043514  0.27081384  0.18623411  0.26020422\n",
      "   0.30031612  0.49395876 -0.02634214 -0.28999336 -0.16904954]\n",
      " [-0.09093813 -0.02029581 -0.00721814  0.012143    0.07573329 -0.01622458\n",
      "   1.00011605  0.15131536  0.13993394  0.29107052  0.28903463  0.28833003\n",
      "   0.04314417  0.18703716  0.04420903  0.32009401  0.12818231  0.02654723\n",
      "   0.15755025  0.11072289  0.13187624  0.15134365  0.03992145]\n",
      " [ 0.1864142   0.58697201  0.18020389 -0.20840965 -0.21337    -0.05548608\n",
      "   0.15131536  1.00011605  0.58813879 -0.03356398  0.18002077  0.31649916\n",
      "   0.75604568  0.59332911  0.4825827   0.17300248  0.38270596  0.50472614\n",
      "   0.52592095  0.05931681  0.58654888  0.53698506  0.68698745]\n",
      " [ 0.12925181  0.65362593  0.32388243 -0.51488284 -0.32464947 -0.46262201\n",
      "   0.13993394  0.58813879  1.00011605 -0.21760898  0.08568501  0.08550531\n",
      "   0.57269109  0.53325042  0.18543311  0.08020348  0.13460011  0.31595813\n",
      "   0.17013416 -0.29434434  0.49663355  0.61652471  0.68000177]\n",
      " [-0.33470388 -0.39635002 -0.39397438  0.24491239  0.25939843  0.2577122\n",
      "   0.29107052 -0.03356398 -0.21760898  1.00011605  0.06463686  0.27422468\n",
      "  -0.19491643 -0.10472938 -0.03877658  0.20022784  0.10217691 -0.0586634\n",
      "   0.05448784  0.21402609 -0.21473867 -0.2721975  -0.22344468]\n",
      " [ 0.21932799  0.03742236  0.23745435  0.0349789   0.208348    0.11958623\n",
      "   0.28903463  0.18002077  0.08568501  0.06463686  1.00011605  0.23880968\n",
      "   0.14656418  0.12429156  0.12263354  0.17740861  0.23098645  0.10077014\n",
      "   0.22286905  0.16598418  0.1792497   0.22149942  0.15950712]\n",
      " [ 0.06043694  0.14518398 -0.06159502  0.21956669  0.02891246  0.2528845\n",
      "   0.28833003  0.31649916  0.08550531  0.27422468  0.23880968  1.00011605\n",
      "   0.2681229   0.34666967  0.34962494  0.39937675  0.54136812  0.37110784\n",
      "   0.53559733  0.51556714  0.35387604  0.34638948  0.3163144 ]\n",
      " [ 0.34830862  0.6846442   0.33424014 -0.13640802 -0.20037983 -0.04740251\n",
      "   0.04314417  0.75604568  0.57269109 -0.19491643  0.14656418  0.2681229\n",
      "   1.00011605  0.73251225  0.64344963  0.10768153  0.36092153  0.62800032\n",
      "   0.49236272  0.05316333  0.62822338  0.59210245  0.68743162]\n",
      " [ 0.36348217  0.5722225   0.32098922  0.03643136 -0.01911742  0.01413065\n",
      "   0.18703716  0.59332911  0.53325042 -0.10472938  0.12429156  0.34666967\n",
      "   0.73251225  1.00011605  0.68854804  0.3325794   0.36156171  0.63333293\n",
      "   0.48821205  0.10654535  0.63683825  0.50175244  0.61853831]\n",
      " [ 0.42629771  0.37578169  0.26709488  0.31872079  0.10916054  0.30043514\n",
      "   0.04420903  0.4825827   0.18543311 -0.03877658  0.12263354  0.34962494\n",
      "   0.64344963  0.68854804  1.00011605  0.25383424  0.36757122  0.61642005\n",
      "   0.50521907  0.29177209  0.51800528  0.31499877  0.41877148]\n",
      " [ 0.099629    0.17195537  0.05147661  0.29833244  0.19056036  0.27081384\n",
      "   0.32009401  0.17300248  0.08020348  0.20022784  0.17740861  0.39937675\n",
      "   0.10768153  0.3325794   0.25383424  1.00011605  0.3329743   0.32405747\n",
      "   0.46425943  0.36401711  0.41099319  0.17757293  0.23445   ]\n",
      " [ 0.1891642   0.35092564  0.07805596  0.11930002 -0.0926894   0.18623411\n",
      "   0.12818231  0.38270596  0.13460011  0.10217691  0.23098645  0.54136812\n",
      "   0.36092153  0.36156171  0.36757122  0.3329743   1.00011605  0.49546996\n",
      "   0.68958453  0.59642631  0.52178354  0.42960046  0.52995074]\n",
      " [ 0.40226158  0.5307038   0.27989168  0.18582025 -0.00312207  0.26020422\n",
      "   0.02654723  0.50472614  0.31595813 -0.0586634   0.10077014  0.37110784\n",
      "   0.62800032  0.63333293  0.61642005  0.32405747  0.49546996  1.00011605\n",
      "   0.55894766  0.28758817  0.55426594  0.35214561  0.60924278]\n",
      " [ 0.26776646  0.4509764   0.12847643  0.20136725 -0.02556657  0.30031612\n",
      "   0.15755025  0.52592095  0.17013416  0.05448784  0.22286905  0.53559733\n",
      "   0.49236272  0.48821205  0.50521907  0.46425943  0.68958453  0.55894766\n",
      "   1.00011605  0.51760146  0.71751352  0.42338288  0.60125651]\n",
      " [ 0.10302147 -0.06260599 -0.10080304  0.45607915  0.09663721  0.49395876\n",
      "   0.11072289  0.05931681 -0.29434434  0.21402609  0.16598418  0.51556714\n",
      "   0.05316333  0.10654535  0.29177209  0.36401711  0.59642631  0.28758817\n",
      "   0.51760146  1.00011605  0.20562517  0.08295476  0.08172197]\n",
      " [ 0.37197004  0.74305778  0.36771174 -0.07108692 -0.18965997 -0.02634214\n",
      "   0.13187624  0.58654888  0.49663355 -0.21473867  0.1792497   0.35387604\n",
      "   0.62822338  0.63683825  0.51800528  0.41099319  0.52178354  0.55426594\n",
      "   0.71751352  0.20562517  1.00011605  0.62885447  0.73992252]\n",
      " [ 0.22139989  0.70227231  0.31859641 -0.34873581 -0.33534937 -0.28999336\n",
      "   0.15134365  0.53698506  0.61652471 -0.2721975   0.22149942  0.34638948\n",
      "   0.59210245  0.50175244  0.31499877  0.17757293  0.42960046  0.35214561\n",
      "   0.42338288  0.08295476  0.62885447  1.00011605  0.67874235]\n",
      " [ 0.31947305  0.77609283  0.38700136 -0.2787854  -0.28481898 -0.16904954\n",
      "   0.03992145  0.68698745  0.68000177 -0.22344468  0.15950712  0.3163144\n",
      "   0.68743162  0.61853831  0.41877148  0.23445     0.52995074  0.60924278\n",
      "   0.60125651  0.08172197  0.73992252  0.67874235  1.00011605]]\n"
     ]
    }
   ],
   "source": [
    "mean_vec = np.mean(df_TF, axis=0)\n",
    "cov_mat = (df_TF - mean_vec).T.dot((df_TF - mean_vec)) / (df_TF.shape[0]-1)\n",
    "print('Covariance matrix \\n%s' %cov_mat)\n"
   ]
  },
  {
   "cell_type": "code",
   "execution_count": 65,
   "metadata": {},
   "outputs": [
    {
     "name": "stdout",
     "output_type": "stream",
     "text": [
      "\n",
      "Eigenvalues \n",
      "[7.94855765 4.13381409 2.11656465 1.42074871 1.26975574 0.86584592\n",
      " 0.68921682 0.59043445 0.52777718 0.07186085 0.44166498 0.42069271\n",
      " 0.39598144 0.33211909 0.30768699 0.12545178 0.13556003 0.1538837\n",
      " 0.24757536 0.17488325 0.22476053 0.20205504 0.20577816]\n"
     ]
    }
   ],
   "source": [
    "cov_mat = np.cov(df_TF.T)\n",
    "eig_vals, eig_vecs = np.linalg.eig(cov_mat)\n",
    "print('\\nEigenvalues \\n%s' %eig_vals)"
   ]
  },
  {
   "cell_type": "code",
   "execution_count": 66,
   "metadata": {},
   "outputs": [
    {
     "data": {
      "text/plain": [
       "array([[-1.65126285e-01,  4.18501130e-02, -5.08062047e-01,\n",
       "         1.58787185e-01, -2.04336041e-01,  1.80913208e-03,\n",
       "        -2.30397835e-01,  1.81383994e-01, -9.68747362e-02,\n",
       "         1.06435860e-01, -1.45702301e-01,  1.41609667e-01,\n",
       "        -1.06699263e-01,  8.35121582e-02, -1.53289014e-01,\n",
       "         1.20599054e-01, -2.17138385e-01,  5.94332914e-02,\n",
       "        -6.74566777e-02,  7.75871191e-02,  1.15935559e-01,\n",
       "        -2.28132085e-01, -5.61042214e-01],\n",
       "       [-2.86085952e-01, -1.96126977e-01, -2.68284160e-02,\n",
       "        -9.09436328e-02, -4.61478261e-02,  1.49797322e-01,\n",
       "         1.14003881e-01,  2.41629462e-02,  6.86941384e-02,\n",
       "        -3.00585443e-02,  5.56251025e-02,  4.82969267e-02,\n",
       "         1.50738591e-01, -3.44909525e-01, -7.02210366e-02,\n",
       "         1.83871414e-02,  2.37896750e-01,  1.21523085e-01,\n",
       "        -3.70295695e-01,  6.85306152e-02,  3.18721684e-01,\n",
       "        -5.51945985e-01,  2.34819195e-01],\n",
       "       [-1.61488469e-01, -1.23575485e-01, -4.09504853e-01,\n",
       "         2.82774466e-01, -2.66739610e-01,  6.22756489e-02,\n",
       "        -2.68786087e-01,  2.83769703e-01, -3.56050000e-03,\n",
       "        -7.76019221e-02, -6.82612370e-02,  4.84533576e-02,\n",
       "        -4.21008624e-02, -8.95480393e-02,  1.58757352e-01,\n",
       "        -1.96373854e-01,  2.81638345e-01,  3.03217586e-02,\n",
       "         1.05390561e-01, -6.40093653e-02, -2.19492209e-01,\n",
       "         2.29067436e-01,  4.47775427e-01],\n",
       "       [ 3.37671298e-02,  4.14541526e-01, -2.50952082e-01,\n",
       "        -2.51852122e-02,  1.01396471e-01,  9.61906780e-02,\n",
       "        -1.44803711e-02, -1.11605476e-01, -1.04938428e-01,\n",
       "         1.78719622e-01, -6.56146024e-02,  7.48819246e-02,\n",
       "        -9.67873495e-02,  6.69358778e-02, -1.51706565e-01,\n",
       "         2.35963346e-01, -4.24908612e-01, -7.48399315e-02,\n",
       "        -6.26679706e-02, -7.17800034e-02,  2.31964760e-01,\n",
       "         1.16391522e-02,  5.80195019e-01],\n",
       "       [ 7.61318846e-02,  2.95640230e-01, -2.08651247e-01,\n",
       "         2.79657457e-01,  2.64262301e-01, -7.83341964e-03,\n",
       "         4.19443533e-01, -6.43648838e-02, -3.09824779e-01,\n",
       "         4.00604506e-01,  1.91888452e-02, -1.59570349e-02,\n",
       "        -3.30269023e-02, -5.68413244e-02, -3.39530431e-02,\n",
       "        -3.61457000e-02,  4.93867961e-01,  1.52956341e-02,\n",
       "        -5.15751913e-02, -2.58293800e-04, -1.15682899e-01,\n",
       "        -1.14778571e-02, -1.04366734e-01],\n",
       "       [ 4.66339575e-03,  3.97832268e-01, -1.53640331e-01,\n",
       "        -1.19122177e-01,  7.58999002e-02, -8.59456168e-02,\n",
       "         1.62435022e-01,  3.82011213e-03,  2.65801626e-01,\n",
       "        -1.76235342e-01,  1.47186258e-01,  3.93808911e-01,\n",
       "        -7.95541819e-02, -3.92060312e-01,  3.83813190e-01,\n",
       "        -3.35244032e-01, -1.80145719e-01,  1.13089626e-01,\n",
       "        -2.24325076e-02,  2.13557122e-02, -2.21373205e-04,\n",
       "         5.14457901e-02, -1.31595748e-01],\n",
       "       [-5.69960698e-02,  9.57005030e-02,  2.98088569e-01,\n",
       "         5.39791660e-01,  5.79283673e-02,  1.72553392e-01,\n",
       "        -4.02196653e-01, -2.12585258e-01,  3.82753571e-01,\n",
       "         3.37643073e-01,  2.37486869e-01,  1.60972117e-01,\n",
       "         3.88277413e-02, -5.36286019e-02, -3.68297846e-02,\n",
       "        -3.23315699e-02,  2.46280261e-02, -6.12077688e-02,\n",
       "        -4.93220615e-03, -3.81334481e-02,  9.66966078e-02,\n",
       "        -1.23300063e-02, -4.83919574e-02],\n",
       "       [-2.70646497e-01, -5.21657012e-02,  1.21850365e-01,\n",
       "        -1.13815248e-02,  2.54662994e-01, -2.56247890e-01,\n",
       "         7.52298361e-02,  1.10058243e-01,  2.46437815e-01,\n",
       "        -1.31810181e-02, -2.23837769e-01,  3.09325636e-01,\n",
       "        -4.06910800e-01,  2.81489766e-01, -2.66217561e-01,\n",
       "        -1.11072590e-01,  9.99027776e-02, -4.45043491e-02,\n",
       "        -1.01589986e-01,  4.19704229e-01, -9.90101684e-02,\n",
       "         1.60518905e-02,  1.32501783e-01],\n",
       "       [-2.21321595e-01, -2.65670982e-01,  1.07476361e-01,\n",
       "         1.67067656e-01,  1.95637102e-01,  5.18139379e-02,\n",
       "         1.02268420e-01,  1.00805770e-01, -2.44644148e-01,\n",
       "         5.15071331e-02,  1.33941112e-01,  7.66618274e-02,\n",
       "        -3.03966909e-01,  7.38240159e-02,  4.38911708e-01,\n",
       "         7.34323329e-02, -2.79599304e-01, -2.86906476e-01,\n",
       "        -1.73342390e-01, -2.84491886e-01, -2.59837895e-01,\n",
       "        -2.40465119e-01,  1.94302610e-02],\n",
       "       [ 6.98302177e-02,  2.42313938e-01,  3.34489522e-01,\n",
       "         1.29287618e-01,  2.49634054e-01, -1.07759873e-01,\n",
       "        -1.98513196e-01,  6.43355805e-01, -1.18914827e-01,\n",
       "        -1.68802496e-02, -2.72891808e-01, -1.73538512e-01,\n",
       "         3.99709046e-02, -3.57279940e-01,  1.63526615e-02,\n",
       "         1.49297288e-01, -4.48650405e-02,  4.54991884e-02,\n",
       "        -1.22651353e-02,  4.21471076e-02,  5.87867471e-02,\n",
       "        -1.00054389e-02, -1.35953503e-02],\n",
       "       [-9.08076728e-02,  1.04309945e-01,  1.24728785e-02,\n",
       "         5.37709576e-01, -2.50604756e-01, -5.08829434e-01,\n",
       "         3.44679754e-01, -4.62998445e-02,  1.15662357e-01,\n",
       "        -3.17357019e-01,  8.04612942e-02, -2.12641910e-01,\n",
       "         1.49346354e-01,  8.13207322e-02,  3.36558513e-03,\n",
       "         1.19927602e-01, -1.42550217e-01, -1.85649552e-02,\n",
       "        -3.97081967e-02,  2.60932864e-02,  8.51726684e-02,\n",
       "        -6.92794623e-02,  6.96866924e-02],\n",
       "       [-1.67856488e-01,  2.38391360e-01,  2.64297838e-01,\n",
       "         1.16553180e-02, -1.04999694e-01, -9.60468737e-02,\n",
       "        -2.36978199e-01, -1.57686329e-01, -5.36260816e-01,\n",
       "        -2.51716975e-01, -7.07325230e-02,  4.67792723e-01,\n",
       "         2.99575900e-01,  1.90734125e-01,  1.99649965e-02,\n",
       "        -7.04997790e-02,  1.36604961e-01,  1.66086313e-02,\n",
       "        -1.27407728e-01, -4.69540436e-02,  7.30417002e-03,\n",
       "         1.84270028e-03,  5.98308548e-03],\n",
       "       [-2.94093843e-01, -6.41969739e-02, -5.59906993e-02,\n",
       "        -6.52234292e-02,  2.64423266e-01, -2.38210986e-01,\n",
       "        -6.38188833e-02, -9.56360109e-02,  1.10853646e-01,\n",
       "        -7.60141279e-02, -4.17541372e-02, -1.51093797e-02,\n",
       "        -1.26264508e-01, -5.38513161e-02, -1.92400148e-01,\n",
       "         1.22408046e-01,  9.73780541e-02,  3.67864905e-01,\n",
       "        -7.51318232e-02, -6.72299028e-01,  9.03312505e-02,\n",
       "         2.33447112e-01, -7.83423197e-02],\n",
       "       [-2.82686560e-01,  2.42404997e-02, -6.20740165e-02,\n",
       "         6.18551133e-02,  3.22544630e-01,  8.73387792e-02,\n",
       "        -1.45826026e-01, -1.73458085e-01, -1.15704723e-01,\n",
       "        -3.36143706e-02,  4.92686747e-02, -3.08899222e-01,\n",
       "         5.73326393e-02,  1.91466579e-01,  3.62495796e-01,\n",
       "        -3.47231278e-03, -9.32399062e-02,  5.41577605e-01,\n",
       "         1.60520137e-01,  3.64553450e-01,  3.80264363e-02,\n",
       "        -4.15018227e-02,  3.52948105e-02],\n",
       "       [-2.35439741e-01,  1.59641212e-01, -1.91124456e-01,\n",
       "        -8.65302989e-02,  2.81943934e-01, -1.15961686e-01,\n",
       "        -2.43481962e-01, -2.39673575e-01,  6.28906060e-02,\n",
       "        -1.45805802e-01, -2.13413050e-01, -3.57585522e-01,\n",
       "         1.42076213e-01, -7.72724734e-02, -1.03084307e-02,\n",
       "        -2.93936261e-01,  7.02318320e-02, -5.70259863e-01,\n",
       "         2.97604332e-02, -4.32339773e-02,  7.42454179e-03,\n",
       "        -1.29748238e-01, -6.58665159e-02],\n",
       "       [-1.35511573e-01,  2.31052088e-01,  1.25620755e-01,\n",
       "         1.88343258e-01, -3.53977458e-02,  6.53183959e-01,\n",
       "         2.25224899e-01,  7.39772782e-02,  1.54916325e-03,\n",
       "        -4.46050176e-01, -4.57504102e-02, -1.32377039e-01,\n",
       "        -2.31697027e-01,  1.12117294e-01, -2.34833603e-01,\n",
       "        -1.65705312e-01, -1.99590633e-03,  2.17789125e-02,\n",
       "         4.72891746e-02, -1.14003541e-01,  2.96804021e-02,\n",
       "         1.60156795e-02, -9.27846588e-02],\n",
       "       [-2.20231860e-01,  1.81630938e-01,  1.77701900e-01,\n",
       "        -1.67871822e-01, -3.16998174e-01, -1.28033484e-01,\n",
       "        -2.06436603e-04,  1.61835763e-01, -9.51238959e-02,\n",
       "         3.81263130e-01,  1.82194775e-01, -3.06045399e-01,\n",
       "        -3.84317781e-02,  1.10884895e-01, -1.32735040e-01,\n",
       "        -5.27903222e-01, -1.81905524e-01,  1.38125849e-01,\n",
       "        -2.41032260e-01, -7.83435373e-02, -8.32311625e-02,\n",
       "         1.39657429e-02,  2.84803307e-02],\n",
       "       [-2.62314058e-01,  1.18917489e-01, -1.15065409e-01,\n",
       "        -1.49698024e-01,  1.58584917e-01,  1.18283306e-02,\n",
       "        -4.65803286e-02,  2.31051918e-01, -4.87218895e-03,\n",
       "        -1.20342925e-01,  6.79022505e-01,  1.54676839e-02,\n",
       "         2.01533025e-01, -3.30630307e-02, -2.80313381e-01,\n",
       "         2.72524041e-01,  1.22589278e-02, -1.36511935e-01,\n",
       "         7.50769449e-02,  1.31868311e-01, -2.86114377e-01,\n",
       "         7.83214259e-02, -1.94604165e-02],\n",
       "       [-2.60244785e-01,  1.99837673e-01,  1.00792123e-01,\n",
       "        -1.31683277e-01, -1.43789498e-01,  4.33873936e-02,\n",
       "         1.68622073e-01,  7.40591789e-02,  2.55848205e-01,\n",
       "         2.04614505e-01, -2.76180744e-01,  1.16595418e-01,\n",
       "         2.50089212e-01,  1.29399972e-01,  6.43579758e-02,\n",
       "         1.39097911e-01,  1.75490989e-02,  6.03916642e-02,\n",
       "         4.91751575e-01, -2.05614964e-01, -2.99506291e-01,\n",
       "        -3.58502173e-01,  4.59026575e-02],\n",
       "       [-8.87619539e-02,  3.43603018e-01,  1.08754958e-01,\n",
       "        -2.03803985e-01, -3.47515494e-01, -6.69057674e-02,\n",
       "        -1.76960104e-01, -1.21121776e-01,  5.58052907e-02,\n",
       "        -3.74897422e-02,  8.21747704e-02, -1.89020268e-01,\n",
       "        -4.82820907e-01, -2.69021292e-03,  2.71689709e-01,\n",
       "         3.89489010e-01,  3.53424564e-01, -7.92469853e-02,\n",
       "        -7.99913091e-02,  5.01765026e-02,  3.68228020e-02,\n",
       "        -3.00166982e-02, -3.82397289e-02],\n",
       "       [-3.05000428e-01, -1.51729838e-03,  1.09476995e-02,\n",
       "        -2.26232843e-02, -8.41780764e-02,  2.23371434e-01,\n",
       "         1.78368341e-01, -5.11518855e-02,  1.58277640e-01,\n",
       "         1.32439359e-01, -2.90908094e-01, -2.87552448e-02,\n",
       "         3.10293785e-01, -5.65701932e-02,  1.59976794e-01,\n",
       "         2.46381686e-01, -8.73646184e-02, -9.47107466e-02,\n",
       "        -4.48050978e-01,  1.34804765e-01, -1.43035172e-01,\n",
       "         4.83397071e-01, -1.06988050e-01],\n",
       "       [-2.64113737e-01, -1.38883394e-01,  1.31797702e-01,\n",
       "         6.34516661e-02, -1.63560679e-01, -4.29685558e-02,\n",
       "         5.49802219e-02, -3.32009444e-01, -2.93176226e-01,\n",
       "         6.49512756e-02, -8.76119788e-02,  1.01248991e-02,\n",
       "        -2.16556856e-01, -5.87967077e-01, -2.38174278e-01,\n",
       "         2.91209262e-02, -1.87647134e-01,  8.55264208e-03,\n",
       "         3.20776760e-01,  1.73565186e-01, -1.44192184e-01,\n",
       "         1.02315236e-01, -3.68759506e-03],\n",
       "       [-3.08505960e-01, -1.00529307e-01,  5.10022097e-02,\n",
       "        -5.54721259e-02, -2.90740425e-02, -3.20831501e-03,\n",
       "         1.86524959e-01,  2.15098194e-01, -8.81489613e-02,\n",
       "         1.58326410e-01,  1.13497867e-01,  8.65545083e-02,\n",
       "         1.32059757e-02,  9.62870991e-02,  1.70860148e-01,\n",
       "        -4.85635769e-02,  7.65494934e-02, -2.45839078e-01,\n",
       "         3.62833998e-01,  2.04933238e-03,  6.63727908e-01,\n",
       "         2.67549998e-01, -5.33842930e-02]])"
      ]
     },
     "execution_count": 66,
     "metadata": {},
     "output_type": "execute_result"
    }
   ],
   "source": [
    "#Fetch eigen vectors using SVD\n",
    "eig_vecs,s,v = np.linalg.svd(df_TF.T)\n"
   ]
  },
  {
   "cell_type": "code",
   "execution_count": 67,
   "metadata": {},
   "outputs": [
    {
     "name": "stdout",
     "output_type": "stream",
     "text": [
      "Eigenvalues and their corresponding eigen vectors in descending order:\n",
      "7.94855764513146\n",
      "[-0.16512628 -0.28608595 -0.16148847  0.03376713  0.07613188  0.0046634\n",
      " -0.05699607 -0.2706465  -0.2213216   0.06983022 -0.09080767 -0.16785649\n",
      " -0.29409384 -0.28268656 -0.23543974 -0.13551157 -0.22023186 -0.26231406\n",
      " -0.26024478 -0.08876195 -0.30500043 -0.26411374 -0.30850596]\n",
      "4.133814094945031\n",
      "[ 0.04185011 -0.19612698 -0.12357548  0.41454153  0.29564023  0.39783227\n",
      "  0.0957005  -0.0521657  -0.26567098  0.24231394  0.10430994  0.23839136\n",
      " -0.06419697  0.0242405   0.15964121  0.23105209  0.18163094  0.11891749\n",
      "  0.19983767  0.34360302 -0.0015173  -0.13888339 -0.10052931]\n",
      "2.1165646535932745\n",
      "[-0.50806205 -0.02682842 -0.40950485 -0.25095208 -0.20865125 -0.15364033\n",
      "  0.29808857  0.12185037  0.10747636  0.33448952  0.01247288  0.26429784\n",
      " -0.0559907  -0.06207402 -0.19112446  0.12562075  0.1777019  -0.11506541\n",
      "  0.10079212  0.10875496  0.0109477   0.1317977   0.05100221]\n",
      "1.4207487077377254\n",
      "[ 0.15878718 -0.09094363  0.28277447 -0.02518521  0.27965746 -0.11912218\n",
      "  0.53979166 -0.01138152  0.16706766  0.12928762  0.53770958  0.01165532\n",
      " -0.06522343  0.06185511 -0.0865303   0.18834326 -0.16787182 -0.14969802\n",
      " -0.13168328 -0.20380398 -0.02262328  0.06345167 -0.05547213]\n",
      "1.269755744949772\n",
      "[-0.20433604 -0.04614783 -0.26673961  0.10139647  0.2642623   0.0758999\n",
      "  0.05792837  0.25466299  0.1956371   0.24963405 -0.25060476 -0.10499969\n",
      "  0.26442327  0.32254463  0.28194393 -0.03539775 -0.31699817  0.15858492\n",
      " -0.1437895  -0.34751549 -0.08417808 -0.16356068 -0.02907404]\n",
      "0.8658459228007498\n",
      "[ 0.00180913  0.14979732  0.06227565  0.09619068 -0.00783342 -0.08594562\n",
      "  0.17255339 -0.25624789  0.05181394 -0.10775987 -0.50882943 -0.09604687\n",
      " -0.23821099  0.08733878 -0.11596169  0.65318396 -0.12803348  0.01182833\n",
      "  0.04338739 -0.06690577  0.22337143 -0.04296856 -0.00320832]\n",
      "0.6892168239985885\n",
      "[-2.30397835e-01  1.14003881e-01 -2.68786087e-01 -1.44803711e-02\n",
      "  4.19443533e-01  1.62435022e-01 -4.02196653e-01  7.52298361e-02\n",
      "  1.02268420e-01 -1.98513196e-01  3.44679754e-01 -2.36978199e-01\n",
      " -6.38188833e-02 -1.45826026e-01 -2.43481962e-01  2.25224899e-01\n",
      " -2.06436603e-04 -4.65803286e-02  1.68622073e-01 -1.76960104e-01\n",
      "  1.78368341e-01  5.49802219e-02  1.86524959e-01]\n",
      "0.5904344537940796\n",
      "[ 0.18138399  0.02416295  0.2837697  -0.11160548 -0.06436488  0.00382011\n",
      " -0.21258526  0.11005824  0.10080577  0.6433558  -0.04629984 -0.15768633\n",
      " -0.09563601 -0.17345809 -0.23967357  0.07397728  0.16183576  0.23105192\n",
      "  0.07405918 -0.12112178 -0.05115189 -0.33200944  0.21509819]\n",
      "0.5277771827470303\n",
      "[-0.09687474  0.06869414 -0.0035605  -0.10493843 -0.30982478  0.26580163\n",
      "  0.38275357  0.24643781 -0.24464415 -0.11891483  0.11566236 -0.53626082\n",
      "  0.11085365 -0.11570472  0.06289061  0.00154916 -0.0951239  -0.00487219\n",
      "  0.25584821  0.05580529  0.15827764 -0.29317623 -0.08814896]\n",
      "0.4416649761706414\n",
      "[-0.1457023   0.0556251  -0.06826124 -0.0656146   0.01918885  0.14718626\n",
      "  0.23748687 -0.22383777  0.13394111 -0.27289181  0.08046129 -0.07073252\n",
      " -0.04175414  0.04926867 -0.21341305 -0.04575041  0.18219477  0.67902251\n",
      " -0.27618074  0.08217477 -0.29090809 -0.08761198  0.11349787]\n",
      "0.4206927102162977\n",
      "[ 0.14160967  0.04829693  0.04845336  0.07488192 -0.01595703  0.39380891\n",
      "  0.16097212  0.30932564  0.07666183 -0.17353851 -0.21264191  0.46779272\n",
      " -0.01510938 -0.30889922 -0.35758552 -0.13237704 -0.3060454   0.01546768\n",
      "  0.11659542 -0.18902027 -0.02875524  0.0101249   0.08655451]\n",
      "0.3959814366777981\n",
      "[-0.10669926  0.15073859 -0.04210086 -0.09678735 -0.0330269  -0.07955418\n",
      "  0.03882774 -0.4069108  -0.30396691  0.0399709   0.14934635  0.2995759\n",
      " -0.12626451  0.05733264  0.14207621 -0.23169703 -0.03843178  0.20153303\n",
      "  0.25008921 -0.48282091  0.31029378 -0.21655686  0.01320598]\n",
      "0.33211908977825755\n",
      "[ 0.08351216 -0.34490952 -0.08954804  0.06693588 -0.05684132 -0.39206031\n",
      " -0.0536286   0.28148977  0.07382402 -0.35727994  0.08132073  0.19073412\n",
      " -0.05385132  0.19146658 -0.07727247  0.11211729  0.11088489 -0.03306303\n",
      "  0.12939997 -0.00269021 -0.05657019 -0.58796708  0.0962871 ]\n",
      "0.30768699329283145\n",
      "[-0.15328901 -0.07022104  0.15875735 -0.15170657 -0.03395304  0.38381319\n",
      " -0.03682978 -0.26621756  0.43891171  0.01635266  0.00336559  0.019965\n",
      " -0.19240015  0.3624958  -0.01030843 -0.2348336  -0.13273504 -0.28031338\n",
      "  0.06435798  0.27168971  0.15997679 -0.23817428  0.17086015]\n",
      "0.2475753642296149\n",
      "[-0.06745668 -0.37029569  0.10539056 -0.06266797 -0.05157519 -0.02243251\n",
      " -0.00493221 -0.10158999 -0.17334239 -0.01226514 -0.0397082  -0.12740773\n",
      " -0.07513182  0.16052014  0.02976043  0.04728917 -0.24103226  0.07507694\n",
      "  0.49175157 -0.07999131 -0.44805098  0.32077676  0.362834  ]\n",
      "0.22476052969000374\n",
      "[ 1.15935559e-01  3.18721684e-01 -2.19492209e-01  2.31964760e-01\n",
      " -1.15682899e-01 -2.21373205e-04  9.66966078e-02 -9.90101684e-02\n",
      " -2.59837895e-01  5.87867471e-02  8.51726684e-02  7.30417002e-03\n",
      "  9.03312505e-02  3.80264363e-02  7.42454179e-03  2.96804021e-02\n",
      " -8.32311625e-02 -2.86114377e-01 -2.99506291e-01  3.68228020e-02\n",
      " -1.43035172e-01 -1.44192184e-01  6.63727908e-01]\n",
      "0.20577816297112628\n",
      "[-0.56104221  0.2348192   0.44777543  0.58019502 -0.10436673 -0.13159575\n",
      " -0.04839196  0.13250178  0.01943026 -0.01359535  0.06968669  0.00598309\n",
      " -0.07834232  0.03529481 -0.06586652 -0.09278466  0.02848033 -0.01946042\n",
      "  0.04590266 -0.03823973 -0.10698805 -0.0036876  -0.05338429]\n",
      "0.20205504091400425\n",
      "[-0.22813208 -0.55194598  0.22906744  0.01163915 -0.01147786  0.05144579\n",
      " -0.01233001  0.01605189 -0.24046512 -0.01000544 -0.06927946  0.0018427\n",
      "  0.23344711 -0.04150182 -0.12974824  0.01601568  0.01396574  0.07832143\n",
      " -0.35850217 -0.0300167   0.48339707  0.10231524  0.26755   ]\n",
      "0.1748832525619276\n",
      "[ 7.75871191e-02  6.85306152e-02 -6.40093653e-02 -7.17800034e-02\n",
      " -2.58293800e-04  2.13557122e-02 -3.81334481e-02  4.19704229e-01\n",
      " -2.84491886e-01  4.21471076e-02  2.60932864e-02 -4.69540436e-02\n",
      " -6.72299028e-01  3.64553450e-01 -4.32339773e-02 -1.14003541e-01\n",
      " -7.83435373e-02  1.31868311e-01 -2.05614964e-01  5.01765026e-02\n",
      "  1.34804765e-01  1.73565186e-01  2.04933238e-03]\n",
      "0.1538836997153881\n",
      "[ 0.05943329  0.12152308  0.03032176 -0.07483993  0.01529563  0.11308963\n",
      " -0.06120777 -0.04450435 -0.28690648  0.04549919 -0.01856496  0.01660863\n",
      "  0.36786491  0.5415776  -0.57025986  0.02177891  0.13812585 -0.13651194\n",
      "  0.06039166 -0.07924699 -0.09471075  0.00855264 -0.24583908]\n",
      "0.13556002522107957\n",
      "[-0.21713838  0.23789675  0.28163834 -0.42490861  0.49386796 -0.18014572\n",
      "  0.02462803  0.09990278 -0.2795993  -0.04486504 -0.14255022  0.13660496\n",
      "  0.09737805 -0.09323991  0.07023183 -0.00199591 -0.18190552  0.01225893\n",
      "  0.0175491   0.35342456 -0.08736462 -0.18764713  0.07654949]\n",
      "0.12545177821331277\n",
      "[ 0.12059905  0.01838714 -0.19637385  0.23596335 -0.0361457  -0.33524403\n",
      " -0.03233157 -0.11107259  0.07343233  0.14929729  0.1199276  -0.07049978\n",
      "  0.12240805 -0.00347231 -0.29393626 -0.16570531 -0.52790322  0.27252404\n",
      "  0.13909791  0.38948901  0.24638169  0.02912093 -0.04856358]\n",
      "0.0718608530429476\n",
      "[ 0.10643586 -0.03005854 -0.07760192  0.17871962  0.40060451 -0.17623534\n",
      "  0.33764307 -0.01318102  0.05150713 -0.01688025 -0.31735702 -0.25171697\n",
      " -0.07601413 -0.03361437 -0.1458058  -0.44605018  0.38126313 -0.12034293\n",
      "  0.2046145  -0.03748974  0.13243936  0.06495128  0.15832641]\n"
     ]
    }
   ],
   "source": [
    "# Make a list of (eigenvalue, eigenvector) tuples and sort them acc to decreasing order of corresponsing eigen values\n",
    "eig_pairs = [(np.abs(eig_vals[i]), eig_vecs[:,i]) for i in range(len(eig_vals))]\n",
    "\n",
    "# Sort the (eigenvalue, eigenvector) tuples from high to low\n",
    "eig_pairs.sort()\n",
    "eig_pairs.reverse()\n",
    "\n",
    "# Visually confirm that the list is correctly sorted by decreasing eigenvalues\n",
    "print('Eigenvalues and their corresponding eigen vectors in descending order:')\n",
    "for i in eig_pairs:\n",
    "    print(i[0] )\n",
    "    print(i[1])\n"
   ]
  },
  {
   "cell_type": "code",
   "execution_count": null,
   "metadata": {},
   "outputs": [],
   "source": []
  },
  {
   "cell_type": "code",
   "execution_count": 68,
   "metadata": {},
   "outputs": [
    {
     "name": "stdout",
     "output_type": "stream",
     "text": [
      "[0.34554936194263686, 0.1797101922979272, 0.09201387197681926, 0.0617645151935584, 0.055200365535392, 0.03764110666640128, 0.029962471734568896, 0.02566808443572899, 0.02294417136898081, 0.019200596827986006, 0.0182888649839761, 0.017214586456317856, 0.014438284866958168, 0.013376143063579413, 0.010762897240187839, 0.009771063014412518, 0.008945838489320611, 0.00878398240061739, 0.007602737381446975, 0.006689819288483658, 0.00589323023262758, 0.0054537922289248815, 0.0031240223731476067]\n",
      "[0.34554936 0.52525955 0.61727343 0.67903794 0.73423831]\n"
     ]
    }
   ],
   "source": [
    "tot = sum(eig_vals)\n",
    "var_exp = [(i / tot) for i in sorted(eig_vals, reverse=True)]\n",
    "cum_var_exp = np.cumsum(var_exp)\n",
    "print(var_exp)\n",
    "print(cum_var_exp[:5])\n"
   ]
  },
  {
   "cell_type": "code",
   "execution_count": 79,
   "metadata": {},
   "outputs": [
    {
     "data": {
      "image/png": "[encoded data removed]",
      "text/plain": [
       "<Figure size 432x288 with 1 Axes>"
      ]
     },
     "metadata": {
      "needs_background": "light"
     },
     "output_type": "display_data"
    }
   ],
   "source": [
    "plt.plot(np.cumsum(var_exp))\n",
    "plt.xlabel('number of components')\n",
    "plt.ylabel('cumulative explained variance');"
   ]
  },
  {
   "cell_type": "code",
   "execution_count": 69,
   "metadata": {},
   "outputs": [],
   "source": []
  },
  {
   "cell_type": "code",
   "execution_count": 70,
   "metadata": {},
   "outputs": [
    {
     "name": "stdout",
     "output_type": "stream",
     "text": [
      "Matrix W:\n",
      " [[-0.16512628  0.04185011 -0.50806205  0.15878718 -0.20433604]\n",
      " [-0.28608595 -0.19612698 -0.02682842 -0.09094363 -0.04614783]\n",
      " [-0.16148847 -0.12357548 -0.40950485  0.28277447 -0.26673961]\n",
      " [ 0.03376713  0.41454153 -0.25095208 -0.02518521  0.10139647]\n",
      " [ 0.07613188  0.29564023 -0.20865125  0.27965746  0.2642623 ]\n",
      " [ 0.0046634   0.39783227 -0.15364033 -0.11912218  0.0758999 ]\n",
      " [-0.05699607  0.0957005   0.29808857  0.53979166  0.05792837]\n",
      " [-0.2706465  -0.0521657   0.12185037 -0.01138152  0.25466299]\n",
      " [-0.2213216  -0.26567098  0.10747636  0.16706766  0.1956371 ]\n",
      " [ 0.06983022  0.24231394  0.33448952  0.12928762  0.24963405]\n",
      " [-0.09080767  0.10430994  0.01247288  0.53770958 -0.25060476]\n",
      " [-0.16785649  0.23839136  0.26429784  0.01165532 -0.10499969]\n",
      " [-0.29409384 -0.06419697 -0.0559907  -0.06522343  0.26442327]\n",
      " [-0.28268656  0.0242405  -0.06207402  0.06185511  0.32254463]\n",
      " [-0.23543974  0.15964121 -0.19112446 -0.0865303   0.28194393]\n",
      " [-0.13551157  0.23105209  0.12562075  0.18834326 -0.03539775]\n",
      " [-0.22023186  0.18163094  0.1777019  -0.16787182 -0.31699817]\n",
      " [-0.26231406  0.11891749 -0.11506541 -0.14969802  0.15858492]\n",
      " [-0.26024478  0.19983767  0.10079212 -0.13168328 -0.1437895 ]\n",
      " [-0.08876195  0.34360302  0.10875496 -0.20380398 -0.34751549]\n",
      " [-0.30500043 -0.0015173   0.0109477  -0.02262328 -0.08417808]\n",
      " [-0.26411374 -0.13888339  0.1317977   0.06345167 -0.16356068]\n",
      " [-0.30850596 -0.10052931  0.05100221 -0.05547213 -0.02907404]]\n"
     ]
    }
   ],
   "source": [
    "matrix_w = np.hstack((eig_pairs[0][1].reshape(23,1),\n",
    "                    eig_pairs[1][1].reshape(23,1),\n",
    "                     eig_pairs[2][1].reshape(23,1),\n",
    "                      eig_pairs[3][1].reshape(23,1),\n",
    "                      eig_pairs[4][1].reshape(23,1),\n",
    "                     ))\n",
    "                    \n",
    "\n",
    "print('Matrix W:\\n', matrix_w)"
   ]
  },
  {
   "cell_type": "code",
   "execution_count": 71,
   "metadata": {},
   "outputs": [],
   "source": [
    "Y = (matrix_w.T).dot(df_TF.T)\n",
    "\n"
   ]
  },
  {
   "cell_type": "code",
   "execution_count": 72,
   "metadata": {},
   "outputs": [
    {
     "name": "stdout",
     "output_type": "stream",
     "text": [
      "[[ 1.23545328  1.25264745  1.42868829 ...  0.06367161 -0.29488507\n",
      "  -0.71561995]\n",
      " [-0.61698639 -0.60310644 -0.82994441 ... -1.01746456  0.63127753\n",
      "   0.49528787]\n",
      " [ 2.01692647  1.99836158  2.19078471 ... -0.37313353  0.20044436\n",
      "  -0.1852623 ]\n",
      " ...\n",
      " [-0.69806491 -0.65811386 -1.03978484 ... -1.10417572  0.70467619\n",
      "   0.43509975]\n",
      " [ 0.00374503  0.01464688 -0.33977182 ... -1.4327563   1.1664165\n",
      "   0.92130908]\n",
      " [-0.84666232 -0.82149021 -1.18569789 ... -1.17113688  0.7461254\n",
      "   0.58807534]]\n"
     ]
    }
   ],
   "source": [
    "new_M=matrix_w.dot(Y)"
   ]
  },
  {
   "cell_type": "code",
   "execution_count": 73,
   "metadata": {},
   "outputs": [],
   "source": [
    "R=Y.T\n",
    "df = df.join(df_desc)\n",
    "df[\"Feature1\"]=R[:,0]"
   ]
  },
  {
   "cell_type": "code",
   "execution_count": 74,
   "metadata": {},
   "outputs": [
    {
     "data": {
      "text/plain": [
       "Breakfast Cereals                      153\n",
       "Nut and Seed Products                   66\n",
       "Baby Foods                              58\n",
       "Legumes and Legume Products             53\n",
       "Spices and Herbs                        26\n",
       "Poultry Products                        20\n",
       "Beef Products                           14\n",
       "Snacks                                  14\n",
       "Vegetables and Vegetable Products       14\n",
       "Lamb, Veal, and Game Products           14\n",
       "Dairy and Egg Products                  11\n",
       "Beverages                               11\n",
       "Cereal Grains and Pasta                 10\n",
       "American Indian/Alaska Native Foods      8\n",
       "Pork Products                            7\n",
       "Finfish and Shellfish Products           7\n",
       "Sweets                                   6\n",
       "Baked Products                           5\n",
       "Sausages and Luncheon Meats              3\n",
       "Name: FoodGroup, dtype: int64"
      ]
     },
     "execution_count": 74,
     "metadata": {},
     "output_type": "execute_result"
    }
   ],
   "source": [
    "df.sort_values(by='Feature1')['FoodGroup'][:500].value_counts()"
   ]
  },
  {
   "cell_type": "code",
   "execution_count": 75,
   "metadata": {},
   "outputs": [
    {
     "data": {
      "text/plain": [
       "Beef Products                          353\n",
       "Lamb, Veal, and Game Products           71\n",
       "Poultry Products                        21\n",
       "American Indian/Alaska Native Foods     13\n",
       "Fats and Oils                           13\n",
       "Pork Products                            9\n",
       "Finfish and Shellfish Products           8\n",
       "Sausages and Luncheon Meats              4\n",
       "Fast Foods                               3\n",
       "Restaurant Foods                         3\n",
       "Beverages                                2\n",
       "Name: FoodGroup, dtype: int64"
      ]
     },
     "execution_count": 75,
     "metadata": {},
     "output_type": "execute_result"
    }
   ],
   "source": [
    "df[\"Feature2\"]=R[:,1]\n",
    "df.sort_values(by='Feature2')['FoodGroup'][:500].value_counts()"
   ]
  },
  {
   "cell_type": "code",
   "execution_count": 76,
   "metadata": {},
   "outputs": [
    {
     "data": {
      "text/plain": [
       "Baked Products                         303\n",
       "Fats and Oils                          108\n",
       "Sweets                                  38\n",
       "Breakfast Cereals                       28\n",
       "American Indian/Alaska Native Foods      7\n",
       "Legumes and Legume Products              3\n",
       "Beverages                                3\n",
       "Snacks                                   3\n",
       "Fast Foods                               2\n",
       "Nut and Seed Products                    2\n",
       "Pork Products                            1\n",
       "Meals, Entrees, and Side Dishes          1\n",
       "Soups, Sauces, and Gravies               1\n",
       "Name: FoodGroup, dtype: int64"
      ]
     },
     "execution_count": 76,
     "metadata": {},
     "output_type": "execute_result"
    }
   ],
   "source": [
    "df[\"Feature3\"]=R[:,2]\n",
    "df.sort_values(by='Feature3')['FoodGroup'][:500].value_counts()"
   ]
  },
  {
   "cell_type": "code",
   "execution_count": 77,
   "metadata": {},
   "outputs": [
    {
     "data": {
      "text/plain": [
       "Legumes and Legume Products            124\n",
       "Cereal Grains and Pasta                 98\n",
       "Vegetables and Vegetable Products       89\n",
       "Baked Products                          39\n",
       "Nut and Seed Products                   34\n",
       "Breakfast Cereals                       23\n",
       "Snacks                                  19\n",
       "American Indian/Alaska Native Foods     18\n",
       "Beverages                               16\n",
       "Sweets                                  15\n",
       "Sausages and Luncheon Meats              6\n",
       "Lamb, Veal, and Game Products            6\n",
       "Spices and Herbs                         5\n",
       "Fruits and Fruit Juices                  2\n",
       "Finfish and Shellfish Products           2\n",
       "Soups, Sauces, and Gravies               2\n",
       "Poultry Products                         1\n",
       "Baby Foods                               1\n",
       "Name: FoodGroup, dtype: int64"
      ]
     },
     "execution_count": 77,
     "metadata": {},
     "output_type": "execute_result"
    }
   ],
   "source": [
    "df[\"Feature4\"]=R[:,3]\n",
    "df.sort_values(by='Feature4')['FoodGroup'][:500].value_counts()"
   ]
  },
  {
   "cell_type": "code",
   "execution_count": 78,
   "metadata": {},
   "outputs": [
    {
     "data": {
      "text/plain": [
       "Fats and Oils                          145\n",
       "Nut and Seed Products                   81\n",
       "Sweets                                  51\n",
       "Legumes and Legume Products             50\n",
       "Snacks                                  41\n",
       "Baked Products                          24\n",
       "Sausages and Luncheon Meats             17\n",
       "American Indian/Alaska Native Foods     16\n",
       "Dairy and Egg Products                  13\n",
       "Cereal Grains and Pasta                 12\n",
       "Finfish and Shellfish Products          12\n",
       "Breakfast Cereals                        8\n",
       "Fast Foods                               5\n",
       "Spices and Herbs                         4\n",
       "Restaurant Foods                         4\n",
       "Beverages                                3\n",
       "Poultry Products                         3\n",
       "Beef Products                            3\n",
       "Lamb, Veal, and Game Products            2\n",
       "Pork Products                            2\n",
       "Soups, Sauces, and Gravies               1\n",
       "Baby Foods                               1\n",
       "Fruits and Fruit Juices                  1\n",
       "Vegetables and Vegetable Products        1\n",
       "Name: FoodGroup, dtype: int64"
      ]
     },
     "execution_count": 78,
     "metadata": {},
     "output_type": "execute_result"
    }
   ],
   "source": [
    "df[\"Feature5\"]=R[:,4]\n",
    "df.sort_values(by='Feature5')['FoodGroup'][:500].value_counts()"
   ]
  },
  {
   "cell_type": "code",
   "execution_count": null,
   "metadata": {},
   "outputs": [],
   "source": []
  },
  {
   "cell_type": "code",
   "execution_count": null,
   "metadata": {},
   "outputs": [],
   "source": []
  },
  {
   "cell_type": "code",
   "execution_count": null,
   "metadata": {},
   "outputs": [],
   "source": []
  },
  {
   "cell_type": "code",
   "execution_count": null,
   "metadata": {},
   "outputs": [],
   "source": []
  },
  {
   "cell_type": "code",
   "execution_count": null,
   "metadata": {},
   "outputs": [],
   "source": []
  },
  {
   "cell_type": "code",
   "execution_count": null,
   "metadata": {},
   "outputs": [],
   "source": []
  },
  {
   "cell_type": "code",
   "execution_count": null,
   "metadata": {},
   "outputs": [],
   "source": []
  },
  {
   "cell_type": "code",
   "execution_count": null,
   "metadata": {},
   "outputs": [],
   "source": []
  },
  {
   "cell_type": "code",
   "execution_count": null,
   "metadata": {},
   "outputs": [],
   "source": []
  },
  {
   "cell_type": "code",
   "execution_count": null,
   "metadata": {},
   "outputs": [],
   "source": []
  },
  {
   "cell_type": "code",
   "execution_count": null,
   "metadata": {},
   "outputs": [],
   "source": []
  }
 ],
 "metadata": {
  "kernelspec": {
   "display_name": "Python 3",
   "language": "python",
   "name": "python3"
  },
  "language_info": {
   "codemirror_mode": {
    "name": "ipython",
    "version": 3
   },
   "file_extension": ".py",
   "mimetype": "text/x-python",
   "name": "python",
   "nbconvert_exporter": "python",
   "pygments_lexer": "ipython3",
   "version": "3.7.3"
  }
 },
 "nbformat": 4,
 "nbformat_minor": 4
}
